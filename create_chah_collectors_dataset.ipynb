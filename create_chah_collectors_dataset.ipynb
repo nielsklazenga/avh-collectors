{
 "cells": [
  {
   "cell_type": "markdown",
   "metadata": {},
   "source": [
    "# Create CHAH collectors and illustrators data set\n",
    "\n",
    "Content is scraped from the [Australian Plant Collectors and Illustrators](http://www.anbg.gov.au/bot-biog/) page on the CHAH website."
   ]
  },
  {
   "cell_type": "code",
   "execution_count": 3,
   "metadata": {},
   "outputs": [],
   "source": [
    "import requests\n",
    "import re\n",
    "import pandas as pd"
   ]
  },
  {
   "cell_type": "markdown",
   "metadata": {},
   "source": [
    "Parse function loads and parses the content of a single page. It takes a letter – which is the first letter of the collector's family name – as its argument."
   ]
  },
  {
   "cell_type": "code",
   "execution_count": 4,
   "metadata": {},
   "outputs": [],
   "source": [
    "def parse_collector_page(firstLetter):\n",
    "    url = 'http://www.anbg.gov.au/bot-biog/bot-biog-' + firstLetter + '.html'\n",
    "\n",
    "    response = requests.get(url)\n",
    "    \n",
    "    if response.status_code == 200:\n",
    "        text = response.text\n",
    "\n",
    "        start_search = '<table BORDER cellpadding=2 cellspacing=\"0\" bordercolor=\"#CCCCCC\" >'\n",
    "\n",
    "        start = text.find(start_search)\n",
    "\n",
    "        end_search = '</table>'\n",
    "        end = text.find(end_search, start)\n",
    "\n",
    "        table = text[start + len(start_search):end]\n",
    "        rows = re.split('</tr>\\s*<tr[^>]*>', table)\n",
    "\n",
    "        recs = []\n",
    "        for row in rows:\n",
    "            cells = re.split('</td>\\s*<td[^>]*>', row)\n",
    "            rec = []\n",
    "            for cell in cells:\n",
    "                clcell = re.sub(re.compile('<.*?>'), '', cell)\n",
    "                clcell = clcell.strip(' \\r\\n').replace('&ndash;', '–').replace('&nbsp;', '')\n",
    "                rec.append(clcell)\n",
    "            recs.append(rec)\n",
    "    else: \n",
    "        recs = []\n",
    "        \n",
    "    df = pd.DataFrame.from_records(recs, columns=['name', 'active', 'comment', 'info_link', 'portrait_link'])\n",
    "    \n",
    "    return df\n",
    "\n",
    "# test = parse_collector_page('UV')\n",
    "# test.head()\n"
   ]
  },
  {
   "cell_type": "markdown",
   "metadata": {},
   "source": [
    "Iterate over all letters in the alphabet. Some letters are lumped together on a page, so these combinations of letters are appended to the letter list."
   ]
  },
  {
   "cell_type": "code",
   "execution_count": 6,
   "metadata": {},
   "outputs": [
    {
     "data": {
      "text/html": [
       "<div>\n",
       "<style scoped>\n",
       "    .dataframe tbody tr th:only-of-type {\n",
       "        vertical-align: middle;\n",
       "    }\n",
       "\n",
       "    .dataframe tbody tr th {\n",
       "        vertical-align: top;\n",
       "    }\n",
       "\n",
       "    .dataframe thead th {\n",
       "        text-align: right;\n",
       "    }\n",
       "</style>\n",
       "<table border=\"1\" class=\"dataframe\">\n",
       "  <thead>\n",
       "    <tr style=\"text-align: right;\">\n",
       "      <th></th>\n",
       "      <th>name</th>\n",
       "      <th>active</th>\n",
       "      <th>comment</th>\n",
       "      <th>info_link</th>\n",
       "      <th>portrait_link</th>\n",
       "    </tr>\n",
       "  </thead>\n",
       "  <tbody>\n",
       "    <tr>\n",
       "      <th>40</th>\n",
       "      <td>VON MYGIND, F., see MYGIND</td>\n",
       "      <td></td>\n",
       "      <td></td>\n",
       "      <td></td>\n",
       "      <td></td>\n",
       "    </tr>\n",
       "    <tr>\n",
       "      <th>41</th>\n",
       "      <td>VON SCHOMBURGK, M.R., see SCHOMBURGK</td>\n",
       "      <td></td>\n",
       "      <td></td>\n",
       "      <td></td>\n",
       "      <td></td>\n",
       "    </tr>\n",
       "    <tr>\n",
       "      <th>42</th>\n",
       "      <td>VON SZENT-LELER, J.K., see KOVATS</td>\n",
       "      <td></td>\n",
       "      <td></td>\n",
       "      <td></td>\n",
       "      <td></td>\n",
       "    </tr>\n",
       "    <tr>\n",
       "      <th>43</th>\n",
       "      <td>VOS, Hubertus</td>\n",
       "      <td>1933-</td>\n",
       "      <td>Nurseryman, forestry technician</td>\n",
       "      <td>notes</td>\n",
       "      <td></td>\n",
       "    </tr>\n",
       "    <tr>\n",
       "      <th>44</th>\n",
       "      <td>VROLAND, Anton W.R.</td>\n",
       "      <td>fl. 1936</td>\n",
       "      <td>Botanist</td>\n",
       "      <td></td>\n",
       "      <td></td>\n",
       "    </tr>\n",
       "  </tbody>\n",
       "</table>\n",
       "</div>"
      ],
      "text/plain": [
       "                                    name    active  \\\n",
       "40            VON MYGIND, F., see MYGIND             \n",
       "41  VON SCHOMBURGK, M.R., see SCHOMBURGK             \n",
       "42     VON SZENT-LELER, J.K., see KOVATS             \n",
       "43                         VOS, Hubertus     1933-   \n",
       "44                   VROLAND, Anton W.R.  fl. 1936   \n",
       "\n",
       "                            comment info_link portrait_link  \n",
       "40                                                           \n",
       "41                                                           \n",
       "42                                                           \n",
       "43  Nurseryman, forestry technician     notes                \n",
       "44                         Botanist                          "
      ]
     },
     "execution_count": 6,
     "metadata": {},
     "output_type": "execute_result"
    }
   ],
   "source": [
    "import string\n",
    "\n",
    "frames = []\n",
    "\n",
    "letters = list(string.ascii_uppercase[:])\n",
    "letters.extend(['PQ', 'UV']) # There is an error in the X-Z page, so it has been left out\n",
    "\n",
    "for letter in letters:\n",
    "    frames.append(parse_collector_page(letter))\n",
    "    \n",
    "df = pd.concat(frames)\n",
    "\n",
    "df.tail()"
   ]
  },
  {
   "cell_type": "code",
   "execution_count": 87,
   "metadata": {},
   "outputs": [],
   "source": [
    "df.to_csv('data/chah_collectors.csv')"
   ]
  },
  {
   "cell_type": "markdown",
   "metadata": {},
   "source": [
    "X, Y and Z have been added to the CSV manually, so from here on we work from the CSV file."
   ]
  },
  {
   "cell_type": "code",
   "execution_count": 12,
   "metadata": {},
   "outputs": [
    {
     "data": {
      "text/html": [
       "<div>\n",
       "<style scoped>\n",
       "    .dataframe tbody tr th:only-of-type {\n",
       "        vertical-align: middle;\n",
       "    }\n",
       "\n",
       "    .dataframe tbody tr th {\n",
       "        vertical-align: top;\n",
       "    }\n",
       "\n",
       "    .dataframe thead th {\n",
       "        text-align: right;\n",
       "    }\n",
       "</style>\n",
       "<table border=\"1\" class=\"dataframe\">\n",
       "  <thead>\n",
       "    <tr style=\"text-align: right;\">\n",
       "      <th></th>\n",
       "      <th>name</th>\n",
       "      <th>active</th>\n",
       "      <th>comment</th>\n",
       "      <th>info_link</th>\n",
       "      <th>portrait_link</th>\n",
       "    </tr>\n",
       "  </thead>\n",
       "  <tbody>\n",
       "    <tr>\n",
       "      <th>0</th>\n",
       "      <td>ABBOTT, Francis, Jnr</td>\n",
       "      <td>1834–1903</td>\n",
       "      <td>Gardens Superintendent</td>\n",
       "      <td>notes</td>\n",
       "      <td>portrait</td>\n",
       "    </tr>\n",
       "    <tr>\n",
       "      <th>1</th>\n",
       "      <td>ABID, Munir. A., See MUNIR</td>\n",
       "      <td>NaN</td>\n",
       "      <td>NaN</td>\n",
       "      <td>NaN</td>\n",
       "      <td>NaN</td>\n",
       "    </tr>\n",
       "    <tr>\n",
       "      <th>2</th>\n",
       "      <td>ABRAHAMS, L.</td>\n",
       "      <td>fl. 1910</td>\n",
       "      <td>NaN</td>\n",
       "      <td>NaN</td>\n",
       "      <td>NaN</td>\n",
       "    </tr>\n",
       "    <tr>\n",
       "      <th>3</th>\n",
       "      <td>ABRAHAMSON, Ada</td>\n",
       "      <td>fl. 1890s</td>\n",
       "      <td>Amateur seaweed collector, WA</td>\n",
       "      <td>notes</td>\n",
       "      <td>NaN</td>\n",
       "    </tr>\n",
       "    <tr>\n",
       "      <th>4</th>\n",
       "      <td>ACKLAND, Judith Joan</td>\n",
       "      <td>fl. 1960s</td>\n",
       "      <td>Botanist</td>\n",
       "      <td>NaN</td>\n",
       "      <td>NaN</td>\n",
       "    </tr>\n",
       "  </tbody>\n",
       "</table>\n",
       "</div>"
      ],
      "text/plain": [
       "                         name     active                        comment  \\\n",
       "0        ABBOTT, Francis, Jnr  1834–1903         Gardens Superintendent   \n",
       "1  ABID, Munir. A., See MUNIR        NaN                            NaN   \n",
       "2                ABRAHAMS, L.   fl. 1910                            NaN   \n",
       "3             ABRAHAMSON, Ada  fl. 1890s  Amateur seaweed collector, WA   \n",
       "4        ACKLAND, Judith Joan  fl. 1960s                       Botanist   \n",
       "\n",
       "  info_link portrait_link  \n",
       "0     notes      portrait  \n",
       "1       NaN           NaN  \n",
       "2       NaN           NaN  \n",
       "3     notes           NaN  \n",
       "4       NaN           NaN  "
      ]
     },
     "execution_count": 12,
     "metadata": {},
     "output_type": "execute_result"
    }
   ],
   "source": [
    "df = pd.read_csv('data/chah_collectors.csv')\n",
    "df.head()"
   ]
  },
  {
   "cell_type": "code",
   "execution_count": 59,
   "metadata": {},
   "outputs": [
    {
     "name": "stdout",
     "output_type": "stream",
     "text": [
      "['Judith', 'Joan']\n",
      "['T.', 'W.']\n"
     ]
    }
   ],
   "source": [
    "print(\"Judith Joan\".replace('.', '. ').split())\n",
    "print(\"T.W.\".replace('.', '. ').split())\n"
   ]
  },
  {
   "cell_type": "code",
   "execution_count": 61,
   "metadata": {},
   "outputs": [],
   "source": [
    "surname = []\n",
    "initials = []\n",
    "canonical = []\n",
    "coll_index = []\n",
    "\n",
    "for i, row in df.iterrows():\n",
    "    n = i + 1\n",
    "    coll_index.append('c' + f'{n:05}')\n",
    "    name = row['name'].replace('^^', '').replace('*', '').strip()\n",
    "    bits = name.split(', ')\n",
    "    surname.append(bits[0])\n",
    "    if len(bits) > 1:\n",
    "        words = bits[1].replace('.', '. ').split()\n",
    "        init = \".\".join([x[0] for x in words]) + '.'\n",
    "        if init == '.':\n",
    "            init = None\n",
    "        initials.append(init)\n",
    "        canonical.append(bits[0] + ', ' + init)\n",
    "    else:\n",
    "        initials.append(None)\n",
    "        canonical.append(bits[0])\n",
    "\n",
    "df['surname'] = surname\n",
    "df['initials'] = initials\n",
    "df['canonical_string'] = canonical\n",
    "df['coll_index'] = coll_index\n",
    "\n",
    "# print(df.columns.tolist())\n",
    "df = df[['coll_index', 'surname', 'initials', 'canonical_string', 'name', 'active', 'comment', 'info_link', 'portrait_link']]\n",
    "\n",
    "df.to_csv('data/chah_collectors_clean.csv')\n"
   ]
  },
  {
   "cell_type": "code",
   "execution_count": null,
   "metadata": {},
   "outputs": [],
   "source": []
  }
 ],
 "metadata": {
  "kernelspec": {
   "display_name": "Python 3",
   "language": "python",
   "name": "python3"
  },
  "language_info": {
   "codemirror_mode": {
    "name": "ipython",
    "version": 3
   },
   "file_extension": ".py",
   "mimetype": "text/x-python",
   "name": "python",
   "nbconvert_exporter": "python",
   "pygments_lexer": "ipython3",
   "version": "3.7.6"
  }
 },
 "nbformat": 4,
 "nbformat_minor": 4
}
