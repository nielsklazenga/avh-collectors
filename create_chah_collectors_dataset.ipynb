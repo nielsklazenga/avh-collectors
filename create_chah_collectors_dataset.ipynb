{
 "cells": [
  {
   "cell_type": "markdown",
   "metadata": {},
   "source": [
    "# Create CHAH collectors and illustrators data set\n",
    "\n",
    "Content is scraped from the [Australian Plant Collectors and Illustrators](http://www.anbg.gov.au/bot-biog/) page on the CHAH website."
   ]
  },
  {
   "cell_type": "code",
   "execution_count": 3,
   "metadata": {},
   "outputs": [],
   "source": [
    "import requests\n",
    "import re\n",
    "import pandas as pd"
   ]
  },
  {
   "cell_type": "markdown",
   "metadata": {},
   "source": [
    "Parse function loads and parses the content of a single page. It takes a letter – which is the first letter of the collector's family name – as its argument."
   ]
  },
  {
   "cell_type": "code",
   "execution_count": 4,
   "metadata": {},
   "outputs": [],
   "source": [
    "def parse_collector_page(firstLetter):\n",
    "    url = 'http://www.anbg.gov.au/bot-biog/bot-biog-' + firstLetter + '.html'\n",
    "\n",
    "    response = requests.get(url)\n",
    "    \n",
    "    if response.status_code == 200:\n",
    "        text = response.text\n",
    "\n",
    "        start_search = '<table BORDER cellpadding=2 cellspacing=\"0\" bordercolor=\"#CCCCCC\" >'\n",
    "\n",
    "        start = text.find(start_search)\n",
    "\n",
    "        end_search = '</table>'\n",
    "        end = text.find(end_search, start)\n",
    "\n",
    "        table = text[start + len(start_search):end]\n",
    "        rows = re.split('</tr>\\s*<tr[^>]*>', table)\n",
    "\n",
    "        recs = []\n",
    "        for row in rows:\n",
    "            cells = re.split('</td>\\s*<td[^>]*>', row)\n",
    "            rec = []\n",
    "            for cell in cells:\n",
    "                clcell = re.sub(re.compile('<.*?>'), '', cell)\n",
    "                clcell = clcell.strip(' \\r\\n').replace('&ndash;', '–').replace('&nbsp;', '')\n",
    "                rec.append(clcell)\n",
    "            recs.append(rec)\n",
    "    else: \n",
    "        recs = []\n",
    "        \n",
    "    df = pd.DataFrame.from_records(recs, columns=['name', 'active', 'comment', 'info_link', 'portrait_link'])\n",
    "    \n",
    "    return df\n",
    "\n",
    "# test = parse_collector_page('UV')\n",
    "# test.head()\n"
   ]
  },
  {
   "cell_type": "markdown",
   "metadata": {},
   "source": [
    "Iterate over all letters in the alphabet. Some letters are lumped together on a page, so these combinations of letters are appended to the letter list."
   ]
  },
  {
   "cell_type": "code",
   "execution_count": 6,
   "metadata": {},
   "outputs": [
    {
     "data": {
      "text/html": [
       "<div>\n",
       "<style scoped>\n",
       "    .dataframe tbody tr th:only-of-type {\n",
       "        vertical-align: middle;\n",
       "    }\n",
       "\n",
       "    .dataframe tbody tr th {\n",
       "        vertical-align: top;\n",
       "    }\n",
       "\n",
       "    .dataframe thead th {\n",
       "        text-align: right;\n",
       "    }\n",
       "</style>\n",
       "<table border=\"1\" class=\"dataframe\">\n",
       "  <thead>\n",
       "    <tr style=\"text-align: right;\">\n",
       "      <th></th>\n",
       "      <th>name</th>\n",
       "      <th>active</th>\n",
       "      <th>comment</th>\n",
       "      <th>info_link</th>\n",
       "      <th>portrait_link</th>\n",
       "    </tr>\n",
       "  </thead>\n",
       "  <tbody>\n",
       "    <tr>\n",
       "      <th>40</th>\n",
       "      <td>VON MYGIND, F., see MYGIND</td>\n",
       "      <td></td>\n",
       "      <td></td>\n",
       "      <td></td>\n",
       "      <td></td>\n",
       "    </tr>\n",
       "    <tr>\n",
       "      <th>41</th>\n",
       "      <td>VON SCHOMBURGK, M.R., see SCHOMBURGK</td>\n",
       "      <td></td>\n",
       "      <td></td>\n",
       "      <td></td>\n",
       "      <td></td>\n",
       "    </tr>\n",
       "    <tr>\n",
       "      <th>42</th>\n",
       "      <td>VON SZENT-LELER, J.K., see KOVATS</td>\n",
       "      <td></td>\n",
       "      <td></td>\n",
       "      <td></td>\n",
       "      <td></td>\n",
       "    </tr>\n",
       "    <tr>\n",
       "      <th>43</th>\n",
       "      <td>VOS, Hubertus</td>\n",
       "      <td>1933-</td>\n",
       "      <td>Nurseryman, forestry technician</td>\n",
       "      <td>notes</td>\n",
       "      <td></td>\n",
       "    </tr>\n",
       "    <tr>\n",
       "      <th>44</th>\n",
       "      <td>VROLAND, Anton W.R.</td>\n",
       "      <td>fl. 1936</td>\n",
       "      <td>Botanist</td>\n",
       "      <td></td>\n",
       "      <td></td>\n",
       "    </tr>\n",
       "  </tbody>\n",
       "</table>\n",
       "</div>"
      ],
      "text/plain": [
       "                                    name    active  \\\n",
       "40            VON MYGIND, F., see MYGIND             \n",
       "41  VON SCHOMBURGK, M.R., see SCHOMBURGK             \n",
       "42     VON SZENT-LELER, J.K., see KOVATS             \n",
       "43                         VOS, Hubertus     1933-   \n",
       "44                   VROLAND, Anton W.R.  fl. 1936   \n",
       "\n",
       "                            comment info_link portrait_link  \n",
       "40                                                           \n",
       "41                                                           \n",
       "42                                                           \n",
       "43  Nurseryman, forestry technician     notes                \n",
       "44                         Botanist                          "
      ]
     },
     "execution_count": 6,
     "metadata": {},
     "output_type": "execute_result"
    }
   ],
   "source": [
    "import string\n",
    "\n",
    "frames = []\n",
    "\n",
    "letters = list(string.ascii_uppercase[:])\n",
    "letters.extend(['PQ', 'UV']) # There is an error in the X-Z page, so it has been left out\n",
    "\n",
    "for letter in letters:\n",
    "    frames.append(parse_collector_page(letter))\n",
    "    \n",
    "df = pd.concat(frames)\n",
    "\n",
    "df.tail()\n",
    "    \n",
    "    \n",
    "    \n",
    "\n"
   ]
  },
  {
   "cell_type": "code",
   "execution_count": 87,
   "metadata": {},
   "outputs": [],
   "source": [
    "df.to_csv('data/chah_collectors.csv')"
   ]
  }
 ],
 "metadata": {
  "kernelspec": {
   "display_name": "Python 3",
   "language": "python",
   "name": "python3"
  },
  "language_info": {
   "codemirror_mode": {
    "name": "ipython",
    "version": 3
   },
   "file_extension": ".py",
   "mimetype": "text/x-python",
   "name": "python",
   "nbconvert_exporter": "python",
   "pygments_lexer": "ipython3",
   "version": "3.7.6"
  }
 },
 "nbformat": 4,
 "nbformat_minor": 4
}
